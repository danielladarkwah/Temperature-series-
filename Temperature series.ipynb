{
 "cells": [
  {
   "cell_type": "markdown",
   "id": "1243a6dc-be21-4b28-8c3f-739a31a5b38b",
   "metadata": {},
   "source": [
    "# Temperature Series in Boston and San Francisco"
   ]
  },
  {
   "cell_type": "code",
   "execution_count": 1,
   "id": "73a39d18-89d0-4eb8-a323-d3687029c211",
   "metadata": {
    "tags": []
   },
   "outputs": [],
   "source": [
    "# imports\n",
    "import warnings\n",
    "import pandas as pd \n",
    "import numpy as np \n",
    "import datetime as dt "
   ]
  },
  {
   "cell_type": "markdown",
   "id": "1e42cd21-810b-4946-bbe6-0d6a3f48fac6",
   "metadata": {},
   "source": [
    "### 1.0\n",
    "\n",
    "Create a Series with the temperature values for the last 14 days in Boston. Use the pandas 'date_range' function to create the index."
   ]
  },
  {
   "cell_type": "code",
   "execution_count": 2,
   "id": "fec47130-327f-49e6-80c7-f3223066c7d0",
   "metadata": {
    "tags": []
   },
   "outputs": [
    {
     "name": "stdout",
     "output_type": "stream",
     "text": [
      "2025-03-13 18:25:27.668176    34.3\n",
      "2025-03-14 18:25:27.668176    28.1\n",
      "2025-03-15 18:25:27.668176    28.1\n",
      "2025-03-16 18:25:27.668176    22.3\n",
      "2025-03-17 18:25:27.668176    23.9\n",
      "2025-03-18 18:25:27.668176    25.2\n",
      "2025-03-19 18:25:27.668176    16.3\n",
      "2025-03-20 18:25:27.668176    20.3\n",
      "2025-03-21 18:25:27.668176    29.5\n",
      "2025-03-22 18:25:27.668176    36.6\n",
      "2025-03-23 18:25:27.668176    35.0\n",
      "2025-03-24 18:25:27.668176    44.4\n",
      "2025-03-25 18:25:27.668176    39.2\n",
      "2025-03-26 18:25:27.668176    36.5\n",
      "Freq: D, dtype: float64\n"
     ]
    }
   ],
   "source": [
    "import pandas as pd\n",
    "\n",
    "# Given average temperature values\n",
    "temperature_values = [34.3, 28.1, 28.1, 22.3, 23.9, 25.2, 16.3, 20.3, 29.5, 36.6, 35.0, 44.4, 39.2, 36.5]\n",
    "\n",
    "# Generate dates for the last 14 days\n",
    "date_index = pd.date_range(end=pd.Timestamp.now(), periods=14, freq='D')\n",
    "\n",
    "# Create a Series with temperature values and dates as the index\n",
    "temperature_series = pd.Series(temperature_values, index=date_index)\n",
    "\n",
    "# Display the resulting Series\n",
    "print(temperature_series)"
   ]
  },
  {
   "cell_type": "markdown",
   "id": "2a03c6de-9e53-46e1-993d-3992e32eac94",
   "metadata": {},
   "source": [
    "### 1.1\n",
    "\n",
    "Filter out the values below the mean (of the Series created in 1.0)"
   ]
  },
  {
   "cell_type": "code",
   "execution_count": 3,
   "id": "03ec6097-fa42-459d-8076-6287d80ba83a",
   "metadata": {
    "tags": []
   },
   "outputs": [
    {
     "name": "stdout",
     "output_type": "stream",
     "text": [
      "2024-01-15 17:06:06.826942    34.3\n",
      "2024-01-24 17:06:06.826942    36.6\n",
      "2024-01-25 17:06:06.826942    35.0\n",
      "2024-01-26 17:06:06.826942    44.4\n",
      "2024-01-27 17:06:06.826942    39.2\n",
      "2024-01-28 17:06:06.826942    36.5\n",
      "dtype: float64\n"
     ]
    }
   ],
   "source": [
    "import pandas as pd\n",
    "\n",
    "# Given average temperature values\n",
    "temperature_values = [34.3, 28.1, 28.1, 22.3, 23.9, 25.2, 16.3, 20.3, 29.5, 36.6, 35.0, 44.4, 39.2, 36.5]\n",
    "\n",
    "# Generate dates for the last 14 days\n",
    "date_index = pd.date_range(end=pd.Timestamp.now(), periods=14, freq='D')\n",
    "\n",
    "# Create a Series with temperature values and dates as the index\n",
    "temperature_series = pd.Series(temperature_values, index=date_index)\n",
    "\n",
    "# Calculate the mean temperature\n",
    "mean_temperature = temperature_series.mean()\n",
    "\n",
    "# Filter out values below the mean\n",
    "filtered_series = temperature_series[temperature_series >= mean_temperature]\n",
    "\n",
    "# Display the filtered Series\n",
    "print(filtered_series)"
   ]
  },
  {
   "cell_type": "markdown",
   "id": "3dec0007-6292-4acc-871a-274eefa117c6",
   "metadata": {},
   "source": [
    "### 1.2\n",
    "\n",
    "Create a Series with the temperature values for every other day within the last 20 days in San Francisco."
   ]
  },
  {
   "cell_type": "code",
   "execution_count": 4,
   "id": "5a705b01-3b30-458d-8ecf-60f0ab58da3d",
   "metadata": {
    "tags": []
   },
   "outputs": [
    {
     "name": "stdout",
     "output_type": "stream",
     "text": [
      "2023-12-21 17:06:10.524047    49.7\n",
      "2023-12-23 17:06:10.524047    52.8\n",
      "2023-12-25 17:06:10.524047    52.0\n",
      "2023-12-27 17:06:10.524047    48.8\n",
      "2023-12-29 17:06:10.524047    49.3\n",
      "2023-12-31 17:06:10.524047    53.5\n",
      "2024-01-02 17:06:10.524047    54.7\n",
      "2024-01-04 17:06:10.524047    53.1\n",
      "2024-01-06 17:06:10.524047    52.5\n",
      "2024-01-08 17:06:10.524047    54.5\n",
      "2024-01-10 17:06:10.524047    52.3\n",
      "2024-01-12 17:06:10.524047    54.1\n",
      "2024-01-14 17:06:10.524047    56.3\n",
      "2024-01-16 17:06:10.524047    57.1\n",
      "2024-01-18 17:06:10.524047    56.7\n",
      "2024-01-20 17:06:10.524047    55.1\n",
      "2024-01-22 17:06:10.524047    55.4\n",
      "2024-01-24 17:06:10.524047    54.6\n",
      "2024-01-26 17:06:10.524047    54.9\n",
      "2024-01-28 17:06:10.524047    56.2\n",
      "Freq: 2D, dtype: float64\n"
     ]
    }
   ],
   "source": [
    "# Given temperature values for every other day\n",
    "temperature_values = [49.7, 52.8, 52.0, 48.8, 49.3, 53.5, 54.7, 53.1, 52.5, 54.5, 52.3, 54.1, 56.3, 57.1, 56.7, 55.1, 55.4, 54.6, 54.9, 56.2]\n",
    "\n",
    "# Generate dates for every other day within the last 20 days\n",
    "date_index = pd.date_range(end=pd.Timestamp.now(), periods=20, freq='2D')\n",
    "\n",
    "# Create a Series with temperature values and dates as the index\n",
    "temperature_series_sf = pd.Series(temperature_values, index=date_index)\n",
    "\n",
    "# Display the resulting Series for San Francisco\n",
    "print(temperature_series_sf)\n"
   ]
  },
  {
   "cell_type": "markdown",
   "id": "a9a73024-ef2d-4169-bf4d-ecc7c0b2b564",
   "metadata": {},
   "source": [
    "### 1.3\n",
    "\n",
    "Calculate the temperature difference between Boston (1.0) and San Francisco (1.2) per day. Programatically find the day with the highest difference. Fill in the blanks:"
   ]
  },
  {
   "cell_type": "code",
   "execution_count": 5,
   "id": "a4194446-f9e8-4d34-943a-49e4f4c5d434",
   "metadata": {
    "tags": []
   },
   "outputs": [
    {
     "name": "stdout",
     "output_type": "stream",
     "text": [
      "Day with the highest temperature difference: 2024-01-15 17:06:14.101002\n",
      "Highest temperature difference: 38.400000000000006\n"
     ]
    }
   ],
   "source": [
    "import pandas as pd\n",
    "\n",
    "# Given average temperature values for Boston (1.0)\n",
    "temperature_values_boston = [34.3, 28.1, 28.1, 22.3, 23.9, 25.2, 16.3, 20.3, 29.5, 36.6, 35.0, 44.4, 39.2, 36.5]\n",
    "\n",
    "# Given temperature values for San Francisco (1.2)\n",
    "temperature_values_sf = [49.7, 52.8, 52.0, 48.8, 49.3, 53.5, 54.7, 53.1, 52.5, 54.5, 52.3, 54.1, 56.3, 57.1, 56.7, 55.1, 55.4, 54.6, 54.9, 56.2]\n",
    "\n",
    "# Generate dates for the last 20 days (as per the longer temperature list)\n",
    "date_index = pd.date_range(end=pd.Timestamp.now(), periods=20, freq='D')\n",
    "\n",
    "# Create Series for Boston and San Francisco\n",
    "temperature_series_boston = pd.Series(temperature_values_boston, index=date_index[:14])  # Use the first 14 days\n",
    "temperature_series_sf = pd.Series(temperature_values_sf, index=date_index)\n",
    "\n",
    "# Calculate temperature difference per day\n",
    "temperature_difference = temperature_series_sf - temperature_series_boston\n",
    "\n",
    "# Find the day with the highest difference\n",
    "day_with_highest_difference = temperature_difference.idxmax()\n",
    "highest_temperature_difference = temperature_difference.max()\n",
    "\n",
    "# Display the results\n",
    "print(\"Day with the highest temperature difference:\", day_with_highest_difference)\n",
    "print(\"Highest temperature difference:\", highest_temperature_difference)\n"
   ]
  },
  {
   "cell_type": "markdown",
   "id": "0e6f7208-9626-46b2-9817-805cfd3acd6c",
   "metadata": {},
   "source": [
    "### 1.4\n",
    "\n",
    "Find the maximum and minimum temperatures for Boston and San Francisco. Fill in the blanks:"
   ]
  },
  {
   "cell_type": "code",
   "execution_count": 6,
   "id": "455d56d7-304a-40a5-9c0d-204353a50ba9",
   "metadata": {
    "tags": []
   },
   "outputs": [
    {
     "name": "stdout",
     "output_type": "stream",
     "text": [
      "Maximum temperature for Boston: 44.4\n",
      "Minimum temperature for Boston: 16.3\n",
      "Maximum temperature for San Francisco: 57.1\n",
      "Minimum temperature for San Francisco: 48.8\n"
     ]
    }
   ],
   "source": [
    "import pandas as pd\n",
    "\n",
    "# Given average temperature values for Boston (1.0)\n",
    "temperature_values_boston = [34.3, 28.1, 28.1, 22.3, 23.9, 25.2, 16.3, 20.3, 29.5, 36.6, 35.0, 44.4, 39.2, 36.5]\n",
    "\n",
    "# Given temperature values for San Francisco (1.2)\n",
    "temperature_values_sf = [49.7, 52.8, 52.0, 48.8, 49.3, 53.5, 54.7, 53.1, 52.5, 54.5, 52.3, 54.1, 56.3, 57.1, 56.7, 55.1, 55.4, 54.6, 54.9, 56.2]\n",
    "\n",
    "# Generate dates for the last 20 days (as per the longer temperature list)\n",
    "date_index = pd.date_range(end=pd.Timestamp.now(), periods=20, freq='D')\n",
    "\n",
    "# Create Series for Boston and San Francisco\n",
    "temperature_series_boston = pd.Series(temperature_values_boston, index=date_index[:14])  # Use the first 14 days\n",
    "temperature_series_sf = pd.Series(temperature_values_sf, index=date_index)\n",
    "\n",
    "# Find maximum and minimum temperatures for Boston\n",
    "max_temperature_boston = temperature_series_boston.max()\n",
    "min_temperature_boston = temperature_series_boston.min()\n",
    "\n",
    "# Find maximum and minimum temperatures for San Francisco\n",
    "max_temperature_sf = temperature_series_sf.max()\n",
    "min_temperature_sf = temperature_series_sf.min()\n",
    "\n",
    "# Display the results\n",
    "print(\"Maximum temperature for Boston:\", max_temperature_boston)\n",
    "print(\"Minimum temperature for Boston:\", min_temperature_boston)\n",
    "\n",
    "print(\"Maximum temperature for San Francisco:\", max_temperature_sf)\n",
    "print(\"Minimum temperature for San Francisco:\", min_temperature_sf)\n"
   ]
  },
  {
   "cell_type": "markdown",
   "id": "48483ae8-2a63-4402-8503-85c854890fa2",
   "metadata": {},
   "source": [
    "### 1.5\n",
    "\n",
    "Plot the temperatures in Boston and San Francisco in one chart."
   ]
  },
  {
   "cell_type": "code",
   "execution_count": 7,
   "id": "ca4c2fb6-2159-4f4b-9cf6-a926b5218642",
   "metadata": {
    "tags": []
   },
   "outputs": [
    {
     "name": "stdout",
     "output_type": "stream",
     "text": [
      "Requirement already satisfied: matplotlib in c:\\users\\danie\\anaconda3\\lib\\site-packages (3.7.1)\n",
      "Requirement already satisfied: contourpy>=1.0.1 in c:\\users\\danie\\anaconda3\\lib\\site-packages (from matplotlib) (1.0.5)\n",
      "Requirement already satisfied: cycler>=0.10 in c:\\users\\danie\\anaconda3\\lib\\site-packages (from matplotlib) (0.11.0)\n",
      "Requirement already satisfied: fonttools>=4.22.0 in c:\\users\\danie\\anaconda3\\lib\\site-packages (from matplotlib) (4.25.0)\n",
      "Requirement already satisfied: kiwisolver>=1.0.1 in c:\\users\\danie\\anaconda3\\lib\\site-packages (from matplotlib) (1.4.4)\n",
      "Requirement already satisfied: numpy>=1.20 in c:\\users\\danie\\anaconda3\\lib\\site-packages (from matplotlib) (1.24.3)\n",
      "Requirement already satisfied: packaging>=20.0 in c:\\users\\danie\\anaconda3\\lib\\site-packages (from matplotlib) (23.0)\n",
      "Requirement already satisfied: pillow>=6.2.0 in c:\\users\\danie\\anaconda3\\lib\\site-packages (from matplotlib) (9.4.0)\n",
      "Requirement already satisfied: pyparsing>=2.3.1 in c:\\users\\danie\\anaconda3\\lib\\site-packages (from matplotlib) (3.0.9)\n",
      "Requirement already satisfied: python-dateutil>=2.7 in c:\\users\\danie\\anaconda3\\lib\\site-packages (from matplotlib) (2.8.2)\n",
      "Requirement already satisfied: six>=1.5 in c:\\users\\danie\\anaconda3\\lib\\site-packages (from python-dateutil>=2.7->matplotlib) (1.16.0)\n",
      "Note: you may need to restart the kernel to use updated packages.\n"
     ]
    }
   ],
   "source": [
    "pip install matplotlib"
   ]
  },
  {
   "cell_type": "code",
   "execution_count": 13,
   "id": "51384469-947e-4a86-ae5a-113c50a0b85c",
   "metadata": {
    "tags": []
   },
   "outputs": [
    {
     "data": {
      "image/png": "[encoded data removed]",
      "text/plain": [
       "<Figure size 1200x600 with 1 Axes>"
      ]
     },
     "metadata": {},
     "output_type": "display_data"
    }
   ],
   "source": [
    "import pandas as pd\n",
    "import matplotlib.pyplot as plt\n",
    "\n",
    "# Given average temperature values for Boston (1.0)\n",
    "temperature_values_boston = [34.3, 28.1, 28.1, 22.3, 23.9, 25.2, 16.3, 20.3, 29.5, 36.6, 35.0, 44.4, 39.2, 36.5]\n",
    "\n",
    "# Given temperature values for San Francisco (1.2)\n",
    "temperature_values_sf = [49.7, 52.8, 52.0, 48.8, 49.3, 53.5, 54.7, 53.1, 52.5, 54.5, 52.3, 54.1, 56.3, 57.1, 56.7, 55.1, 55.4, 54.6, 54.9, 56.2]\n",
    "\n",
    "# Generate dates for the last 20 days (as per the longer temperature list)\n",
    "date_index = pd.date_range(end=pd.Timestamp.now(), periods=20, freq='D')\n",
    "\n",
    "# Create Series for Boston and San Francisco\n",
    "temperature_series_boston = pd.Series(temperature_values_boston, index=date_index[:14])  # Use the first 14 days\n",
    "temperature_series_sf = pd.Series(temperature_values_sf, index=date_index)\n",
    "\n",
    "# Plotting\n",
    "plt.figure(figsize=(12,6))\n",
    "\n",
    "plt.plot(temperature_series_boston, label='Boston')\n",
    "plt.plot(temperature_series_sf, label='San Francisco')\n",
    "\n",
    "plt.title('Temperature Comparison: Boston vs. San Francisco')\n",
    "plt.xlabel('Date')\n",
    "plt.ylabel('Temperature (°C)')\n",
    "\n",
    "plt.legend()\n",
    "plt.show()"
   ]
  },
  {
   "cell_type": "markdown",
   "id": "f9bd9525-fc8e-40dd-ad59-0b8927a2e97f",
   "metadata": {},
   "source": [
    "### 2.1\n",
    "\n",
    "Create a Dataframe with the names of your team members, their age, their favorite food, their favorite room temperature"
   ]
  },
  {
   "cell_type": "code",
   "execution_count": 112,
   "id": "f32ef89c-d661-4d80-888a-89653c1baaac",
   "metadata": {
    "tags": []
   },
   "outputs": [
    {
     "name": "stdout",
     "output_type": "stream",
     "text": [
      "  Team members  Age Favorite food  Favorite room temperature\n",
      "0       Wissem   40         Kabsa                         40\n",
      "1      Krishan   22      Tandoori                         50\n",
      "2     Yue Chen   35       Noodles                         60\n",
      "3       Ahkila   29  tikka masala                         65\n",
      "4     Mohammed   35      vindaloo                         35\n"
     ]
    }
   ],
   "source": [
    "# Creating a dictionary with the given information\n",
    "data = {\n",
    "    'Team members': ['Wissem', 'Krishan', 'Yue Chen', 'Ahkila', 'Mohammed'],\n",
    "    'Age': [40, 22, 35, 29, 35],\n",
    "    'Favorite food': ['Kabsa', 'Tandoori', 'Noodles', 'tikka masala', 'vindaloo'],\n",
    "    'Favorite room temperature': [40, 50, 60, 65, 35]\n",
    "}\n",
    "\n",
    "# Creating a DataFrame\n",
    "team_df = pd.DataFrame(data)\n",
    "\n",
    "# Displaying the DataFrame\n",
    "print(team_df)\n"
   ]
  },
  {
   "cell_type": "markdown",
   "id": "de01f81c-6a06-41b4-b118-6afa5ca5ef5f",
   "metadata": {},
   "source": [
    "### 2.2\n",
    "\n",
    "Filter the dataframe for only the two oldest team members"
   ]
  },
  {
   "cell_type": "code",
   "execution_count": 113,
   "id": "e567eb23-8650-41d7-8c55-a4c5c7938802",
   "metadata": {
    "tags": []
   },
   "outputs": [
    {
     "name": "stdout",
     "output_type": "stream",
     "text": [
      "  Team members  Age Favorite food  Favorite room temperature\n",
      "0       Wissem   40         Kabsa                         40\n",
      "2     Yue Chen   35       Noodles                         60\n"
     ]
    }
   ],
   "source": [
    "# Assuming 'Age' is the column representing the age\n",
    "oldest_members_df = team_df.nlargest(2, 'Age')\n",
    "\n",
    "# Displaying the filtered DataFrame\n",
    "print(oldest_members_df)"
   ]
  },
  {
   "cell_type": "markdown",
   "id": "049fc05e-7fc1-4eb3-8f24-d8f50e0155c2",
   "metadata": {},
   "source": [
    "### 2.3\n",
    "\n",
    "Which team member is closest in favorite temperature to the 3rd percentil? Output his or her data."
   ]
  },
  {
   "cell_type": "code",
   "execution_count": 114,
   "id": "01d28c6e-eac4-4507-87d4-08b532e1159b",
   "metadata": {
    "tags": []
   },
   "outputs": [
    {
     "name": "stdout",
     "output_type": "stream",
     "text": [
      "  Team members  Age Favorite food  Favorite room temperature\n",
      "4     Mohammed   35      vindaloo                         35\n"
     ]
    }
   ],
   "source": [
    "# Calculate the 3rd percentile of the 'Favorite room temperature' column\n",
    "third_percentile = np.percentile(team_df['Favorite room temperature'], 3)\n",
    "\n",
    "# Find the team member closest to the 3rd percentile\n",
    "closest_member = team_df.iloc[(team_df['Favorite room temperature'] - third_percentile).abs().argsort()[:1]]\n",
    "\n",
    "# Display the data for the closest team member\n",
    "print(closest_member)\n"
   ]
  },
  {
   "cell_type": "markdown",
   "id": "4cbd4488-3354-40b4-9347-dbd14bfe9f59",
   "metadata": {},
   "source": [
    "### 2.4\n",
    "\n",
    "Get the 2nd and 3rd team members' favorite foods"
   ]
  },
  {
   "cell_type": "code",
   "execution_count": 115,
   "id": "899859a8-4b30-4170-b3f4-4408486697c6",
   "metadata": {
    "tags": []
   },
   "outputs": [
    {
     "name": "stdout",
     "output_type": "stream",
     "text": [
      "1    Tandoori\n",
      "2     Noodles\n",
      "Name: Favorite food, dtype: object\n"
     ]
    }
   ],
   "source": [
    "# Extracting the favorite foods of the 2nd and 3rd team members\n",
    "favorite_foods_2nd_3rd = team_df.loc[1:2, 'Favorite food']\n",
    "\n",
    "# Displaying the favorite foods\n",
    "print(favorite_foods_2nd_3rd)"
   ]
  },
  {
   "cell_type": "markdown",
   "id": "ee90784e-53b3-4eef-b186-146f0e2a2dee",
   "metadata": {},
   "source": [
    "### 2.5\n",
    "\n",
    "Add 2 degrees to the favorite room temperature of the oldest two team members"
   ]
  },
  {
   "cell_type": "code",
   "execution_count": 18,
   "id": "d4c90646-aa1e-4dcf-b251-2d46a681d445",
   "metadata": {
    "tags": []
   },
   "outputs": [
    {
     "name": "stdout",
     "output_type": "stream",
     "text": [
      "  Team members  Age Favorite food  Favorite room temperature\n",
      "0       Wissem   40         Kabsa                         42\n",
      "1      Krishan   22      Tandoori                         50\n",
      "2     Yue Chen   35       Noodles                         62\n",
      "3       Ahkila   29  tikka masala                         65\n",
      "4     Mohammed   35      vindaloo                         35\n"
     ]
    }
   ],
   "source": [
    "# Find the indices of the two oldest team members\n",
    "oldest_indices = team_df['Age'].nlargest(2).index\n",
    "\n",
    "# Add 2 degrees to their favorite room temperature\n",
    "team_df.loc[oldest_indices, 'Favorite room temperature'] += 2\n",
    "\n",
    "# Display the updated DataFrame\n",
    "print(team_df)"
   ]
  },
  {
   "cell_type": "code",
   "execution_count": 9,
   "id": "5ed3cb4a",
   "metadata": {
    "tags": []
   },
   "outputs": [],
   "source": [
    "import pandas as pd\n",
    "import glob\n",
    "import os\n",
    "import shutil\n",
    "\n",
    "for file_name in glob.glob(\"coaster_db\"):\n",
    "    new_path = os.path.join(\"data\", file_name)\n",
    "    shutil.move(file_name, new_path)"
   ]
  },
  {
   "cell_type": "markdown",
   "id": "3199d2ba",
   "metadata": {},
   "source": [
    "## 3.0\n",
    "\n",
    "Load the coaster_db.csv dataset"
   ]
  },
  {
   "cell_type": "code",
   "execution_count": 69,
   "id": "d158afae-c402-4b22-b9da-a7b9338519f9",
   "metadata": {
    "tags": []
   },
   "outputs": [],
   "source": [
    "from pathlib import Path\n",
    "\n",
    "for file_path in Path.cwd().glob(\"*coaster_db\"):\n",
    "    new_path = Path(\"data\") / file_path.name\n",
    "    file_path.replace(new_path)"
   ]
  },
  {
   "cell_type": "code",
   "execution_count": 68,
   "id": "3df055c2-8119-485a-ac66-cfde4ceba7f2",
   "metadata": {
    "tags": []
   },
   "outputs": [
    {
     "data": {
      "text/plain": [
       "WindowsPath('C:/Users/danie/Downloads')"
      ]
     },
     "execution_count": 68,
     "metadata": {},
     "output_type": "execute_result"
    }
   ],
   "source": [
    "cwd = Path.cwd()\n",
    "cwd"
   ]
  },
  {
   "cell_type": "code",
   "execution_count": 70,
   "id": "b6c07c11-cefb-4e9a-83d2-be1b5cb2345c",
   "metadata": {
    "tags": []
   },
   "outputs": [
    {
     "data": {
      "text/plain": [
       "WindowsPath('C:/Users/danie/Downloads/coaster_db.csv')"
      ]
     },
     "execution_count": 70,
     "metadata": {},
     "output_type": "execute_result"
    }
   ],
   "source": [
    "datapath = cwd.joinpath(Path('coaster_db.csv'))\n",
    "datapath"
   ]
  },
  {
   "cell_type": "code",
   "execution_count": 71,
   "id": "abc88c62-7a3c-4965-a3b1-99c32b7d8167",
   "metadata": {
    "tags": []
   },
   "outputs": [
    {
     "data": {
      "text/plain": [
       "WindowsPath('C:/Users/danie/Downloads/coaster_db.csv/coaster_db.csv')"
      ]
     },
     "execution_count": 71,
     "metadata": {},
     "output_type": "execute_result"
    }
   ],
   "source": [
    "path = datapath.joinpath(Path('coaster_db.csv'))\n",
    "path"
   ]
  },
  {
   "cell_type": "code",
   "execution_count": 72,
   "id": "1d254ea8-6493-4673-afaa-82956b18aefa",
   "metadata": {
    "tags": []
   },
   "outputs": [],
   "source": [
    "path = Path(\"data\") / Path(\"coaster_db.csv\")\n",
    "df = pd.read_csv(path, low_memory=False)"
   ]
  },
  {
   "cell_type": "code",
   "execution_count": 73,
   "id": "0a1dfe28-6948-4e51-a8b6-e8b30494c9dd",
   "metadata": {
    "tags": []
   },
   "outputs": [],
   "source": [
    "path = Path(\"data\") / Path(\"coaster_db.csv\")"
   ]
  },
  {
   "cell_type": "code",
   "execution_count": 74,
   "id": "f23d2d51-18b7-405a-bf5e-5eec901d7c0b",
   "metadata": {
    "tags": []
   },
   "outputs": [],
   "source": [
    "if path.exists():\n",
    "    df = pd.read_csv(path, low_memory=False)\n",
    "else:\n",
    "    print(f\"The file {path} does not exist.\")"
   ]
  },
  {
   "cell_type": "code",
   "execution_count": 35,
   "id": "bd0ad0ef-0ed2-462a-9ae5-475be2f4c0e7",
   "metadata": {
    "tags": []
   },
   "outputs": [
    {
     "data": {
      "text/html": [
       "<div>\n",
       "<style scoped>\n",
       "    .dataframe tbody tr th:only-of-type {\n",
       "        vertical-align: middle;\n",
       "    }\n",
       "\n",
       "    .dataframe tbody tr th {\n",
       "        vertical-align: top;\n",
       "    }\n",
       "\n",
       "    .dataframe thead th {\n",
       "        text-align: right;\n",
       "    }\n",
       "</style>\n",
       "<table border=\"1\" class=\"dataframe\">\n",
       "  <thead>\n",
       "    <tr style=\"text-align: right;\">\n",
       "      <th></th>\n",
       "      <th>coaster_name</th>\n",
       "      <th>Length</th>\n",
       "      <th>Speed</th>\n",
       "      <th>Location</th>\n",
       "      <th>Status</th>\n",
       "      <th>Opening date</th>\n",
       "      <th>Type</th>\n",
       "      <th>Manufacturer</th>\n",
       "      <th>Height restriction</th>\n",
       "      <th>Model</th>\n",
       "      <th>...</th>\n",
       "      <th>speed1</th>\n",
       "      <th>speed2</th>\n",
       "      <th>speed1_value</th>\n",
       "      <th>speed1_unit</th>\n",
       "      <th>speed_mph</th>\n",
       "      <th>height_value</th>\n",
       "      <th>height_unit</th>\n",
       "      <th>height_ft</th>\n",
       "      <th>Inversions_clean</th>\n",
       "      <th>Gforce_clean</th>\n",
       "    </tr>\n",
       "  </thead>\n",
       "  <tbody>\n",
       "    <tr>\n",
       "      <th>0</th>\n",
       "      <td>Switchback Railway</td>\n",
       "      <td>600 ft (180 m)</td>\n",
       "      <td>6 mph (9.7 km/h)</td>\n",
       "      <td>Coney Island</td>\n",
       "      <td>Removed</td>\n",
       "      <td>June 16, 1884</td>\n",
       "      <td>Wood</td>\n",
       "      <td>LaMarcus Adna Thompson</td>\n",
       "      <td>NaN</td>\n",
       "      <td>Lift Packed</td>\n",
       "      <td>...</td>\n",
       "      <td>6 mph</td>\n",
       "      <td>9.7 km/h</td>\n",
       "      <td>6.0</td>\n",
       "      <td>mph</td>\n",
       "      <td>6.0</td>\n",
       "      <td>50.0</td>\n",
       "      <td>ft</td>\n",
       "      <td>NaN</td>\n",
       "      <td>0</td>\n",
       "      <td>2.9</td>\n",
       "    </tr>\n",
       "    <tr>\n",
       "      <th>1</th>\n",
       "      <td>Flip Flap Railway</td>\n",
       "      <td>NaN</td>\n",
       "      <td>NaN</td>\n",
       "      <td>Sea Lion Park</td>\n",
       "      <td>Removed</td>\n",
       "      <td>1895</td>\n",
       "      <td>Wood</td>\n",
       "      <td>Lina Beecher</td>\n",
       "      <td>NaN</td>\n",
       "      <td>NaN</td>\n",
       "      <td>...</td>\n",
       "      <td>NaN</td>\n",
       "      <td>NaN</td>\n",
       "      <td>NaN</td>\n",
       "      <td>NaN</td>\n",
       "      <td>NaN</td>\n",
       "      <td>NaN</td>\n",
       "      <td>NaN</td>\n",
       "      <td>NaN</td>\n",
       "      <td>1</td>\n",
       "      <td>12.0</td>\n",
       "    </tr>\n",
       "    <tr>\n",
       "      <th>2</th>\n",
       "      <td>Switchback Railway (Euclid Beach Park)</td>\n",
       "      <td>NaN</td>\n",
       "      <td>NaN</td>\n",
       "      <td>Cleveland, Ohio, United States</td>\n",
       "      <td>Closed</td>\n",
       "      <td>NaN</td>\n",
       "      <td>Other</td>\n",
       "      <td>NaN</td>\n",
       "      <td>NaN</td>\n",
       "      <td>NaN</td>\n",
       "      <td>...</td>\n",
       "      <td>NaN</td>\n",
       "      <td>NaN</td>\n",
       "      <td>NaN</td>\n",
       "      <td>NaN</td>\n",
       "      <td>NaN</td>\n",
       "      <td>NaN</td>\n",
       "      <td>NaN</td>\n",
       "      <td>NaN</td>\n",
       "      <td>0</td>\n",
       "      <td>NaN</td>\n",
       "    </tr>\n",
       "    <tr>\n",
       "      <th>3</th>\n",
       "      <td>Loop the Loop (Coney Island)</td>\n",
       "      <td>NaN</td>\n",
       "      <td>NaN</td>\n",
       "      <td>Other</td>\n",
       "      <td>Removed</td>\n",
       "      <td>1901</td>\n",
       "      <td>Steel</td>\n",
       "      <td>Edwin Prescott</td>\n",
       "      <td>NaN</td>\n",
       "      <td>NaN</td>\n",
       "      <td>...</td>\n",
       "      <td>NaN</td>\n",
       "      <td>NaN</td>\n",
       "      <td>NaN</td>\n",
       "      <td>NaN</td>\n",
       "      <td>NaN</td>\n",
       "      <td>NaN</td>\n",
       "      <td>NaN</td>\n",
       "      <td>NaN</td>\n",
       "      <td>1</td>\n",
       "      <td>NaN</td>\n",
       "    </tr>\n",
       "    <tr>\n",
       "      <th>4</th>\n",
       "      <td>Loop the Loop (Young's Pier)</td>\n",
       "      <td>NaN</td>\n",
       "      <td>NaN</td>\n",
       "      <td>Other</td>\n",
       "      <td>Removed</td>\n",
       "      <td>1901</td>\n",
       "      <td>Steel</td>\n",
       "      <td>Edwin Prescott</td>\n",
       "      <td>NaN</td>\n",
       "      <td>NaN</td>\n",
       "      <td>...</td>\n",
       "      <td>NaN</td>\n",
       "      <td>NaN</td>\n",
       "      <td>NaN</td>\n",
       "      <td>NaN</td>\n",
       "      <td>NaN</td>\n",
       "      <td>NaN</td>\n",
       "      <td>NaN</td>\n",
       "      <td>NaN</td>\n",
       "      <td>1</td>\n",
       "      <td>NaN</td>\n",
       "    </tr>\n",
       "  </tbody>\n",
       "</table>\n",
       "<p>5 rows × 56 columns</p>\n",
       "</div>"
      ],
      "text/plain": [
       "                             coaster_name          Length             Speed  \\\n",
       "0                      Switchback Railway  600 ft (180 m)  6 mph (9.7 km/h)   \n",
       "1                       Flip Flap Railway             NaN               NaN   \n",
       "2  Switchback Railway (Euclid Beach Park)             NaN               NaN   \n",
       "3            Loop the Loop (Coney Island)             NaN               NaN   \n",
       "4            Loop the Loop (Young's Pier)             NaN               NaN   \n",
       "\n",
       "                         Location   Status   Opening date   Type  \\\n",
       "0                    Coney Island  Removed  June 16, 1884   Wood   \n",
       "1                   Sea Lion Park  Removed           1895   Wood   \n",
       "2  Cleveland, Ohio, United States   Closed            NaN  Other   \n",
       "3                           Other  Removed           1901  Steel   \n",
       "4                           Other  Removed           1901  Steel   \n",
       "\n",
       "             Manufacturer Height restriction        Model  ...  speed1  \\\n",
       "0  LaMarcus Adna Thompson                NaN  Lift Packed  ...  6 mph    \n",
       "1            Lina Beecher                NaN          NaN  ...     NaN   \n",
       "2                     NaN                NaN          NaN  ...     NaN   \n",
       "3          Edwin Prescott                NaN          NaN  ...     NaN   \n",
       "4          Edwin Prescott                NaN          NaN  ...     NaN   \n",
       "\n",
       "     speed2 speed1_value speed1_unit speed_mph height_value height_unit  \\\n",
       "0  9.7 km/h          6.0         mph       6.0         50.0          ft   \n",
       "1       NaN          NaN         NaN       NaN          NaN         NaN   \n",
       "2       NaN          NaN         NaN       NaN          NaN         NaN   \n",
       "3       NaN          NaN         NaN       NaN          NaN         NaN   \n",
       "4       NaN          NaN         NaN       NaN          NaN         NaN   \n",
       "\n",
       "  height_ft Inversions_clean Gforce_clean  \n",
       "0       NaN                0          2.9  \n",
       "1       NaN                1         12.0  \n",
       "2       NaN                0          NaN  \n",
       "3       NaN                1          NaN  \n",
       "4       NaN                1          NaN  \n",
       "\n",
       "[5 rows x 56 columns]"
      ]
     },
     "execution_count": 35,
     "metadata": {},
     "output_type": "execute_result"
    }
   ],
   "source": [
    "df.head()"
   ]
  },
  {
   "cell_type": "markdown",
   "id": "e5aab7ab",
   "metadata": {},
   "source": [
    "## 3.1\n",
    "Store the coaster dataset in a new database. Ensure to handle duplicate column names."
   ]
  },
  {
   "cell_type": "code",
   "execution_count": 75,
   "id": "31d54375-8261-4818-ac51-b238b435447f",
   "metadata": {
    "tags": []
   },
   "outputs": [],
   "source": [
    "import sqlite3\n",
    "def rename_duplicates(df):\n",
    "    cols = pd.Series(df.columns)\n",
    "    for dup in cols[cols.duplicated()].unique(): \n",
    "        cols[cols[cols == dup].index.values.tolist()] = [dup + '_' + str(i) if i != 0 else dup for i in range(sum(cols == dup))]\n",
    "    df.columns = cols\n",
    "    return df\n",
    "\n",
    "df_renamed = rename_duplicates(df)"
   ]
  },
  {
   "cell_type": "markdown",
   "id": "a0dae0d3",
   "metadata": {},
   "source": [
    "## 4.0\n",
    "\n",
    "Clean the dataset coaster dataset.\n",
    "\n",
    "- Ensure all columns only have one unit\n",
    "- Ensure dates are as datetime\n",
    "- Ensure boolean information is stored as boolean\n",
    "- Only retain the following columns:\n",
    "    - coaster_name\n",
    "    - Length\n",
    "    - Speed\n",
    "    - Location\n",
    "    - Status\n",
    "    - Manufacturer\n",
    "    - Height\n",
    "    - Designer\n",
    "    - Track layout\n",
    "    - latitude\n",
    "    - longitude\n",
    "    - opening_date_clean\n",
    "    - speed_mph\n",
    "    - height_value\n",
    "- Ensure the column names are descriptive, contain no blank spaces and have the same capitalization"
   ]
  },
  {
   "cell_type": "code",
   "execution_count": 1,
   "id": "16026baa",
   "metadata": {},
   "outputs": [
    {
     "name": "stdout",
     "output_type": "stream",
     "text": [
      "                             coaster_name   length_meters         speed_kph  \\\n",
      "0                      Switchback Railway  600 ft (180 m)  6 mph (9.7 km/h)   \n",
      "1                       Flip Flap Railway             NaN               NaN   \n",
      "2  Switchback Railway (Euclid Beach Park)             NaN               NaN   \n",
      "3            Loop the Loop (Coney Island)             NaN               NaN   \n",
      "4            Loop the Loop (Young's Pier)             NaN               NaN   \n",
      "\n",
      "                         location operating            manufacturer  \\\n",
      "0                    Coney Island       NaN  LaMarcus Adna Thompson   \n",
      "1                   Sea Lion Park       NaN            Lina Beecher   \n",
      "2  Cleveland, Ohio, United States       NaN                     NaN   \n",
      "3                           Other       NaN          Edwin Prescott   \n",
      "4                           Other       NaN          Edwin Prescott   \n",
      "\n",
      "  height_meters                designer            track_layout  latitude  \\\n",
      "0  50 ft (15 m)  LaMarcus Adna Thompson  Gravity pulled coaster   40.5740   \n",
      "1           NaN            Lina Beecher                     NaN   40.5780   \n",
      "2           NaN                     NaN                     NaN   41.5800   \n",
      "3           NaN         Edward A. Green                     NaN   40.5745   \n",
      "4           NaN         Edward A. Green                     NaN   39.3538   \n",
      "\n",
      "   longitude opening_date  speed_mph  height_value  \n",
      "0   -73.9780   1884-06-16    9.65604          50.0  \n",
      "1   -73.9790   1895-01-01        NaN           NaN  \n",
      "2   -81.5700          NaT        NaN           NaN  \n",
      "3   -73.9780   1901-01-01        NaN           NaN  \n",
      "4   -74.4342   1901-01-01        NaN           NaN  \n"
     ]
    }
   ],
   "source": [
    "import pandas as pd\n",
    "\n",
    "# Load the CSV file into a DataFrame\n",
    "coaster_df = pd.read_csv('coaster_db.csv')\n",
    "\n",
    "# Retain only the specified columns\n",
    "selected_columns = [\n",
    "    'coaster_name',\n",
    "    'Length',\n",
    "    'Speed',\n",
    "    'Location',\n",
    "    'Status',\n",
    "    'Manufacturer',\n",
    "    'Height',\n",
    "    'Designer',\n",
    "    'Track layout',\n",
    "    'latitude',\n",
    "    'longitude',\n",
    "    'opening_date_clean',\n",
    "    'speed_mph',\n",
    "    'height_value'\n",
    "]\n",
    "\n",
    "coaster_df = coaster_df[selected_columns]\n",
    "\n",
    "# Ensure dates are in datetime format\n",
    "coaster_df['opening_date_clean'] = pd.to_datetime(coaster_df['opening_date_clean'], errors='coerce')\n",
    "\n",
    "# Convert boolean information to boolean type\n",
    "coaster_df['Status'] = coaster_df['Status'].map({'status.operating': True, 'status.closed': False})\n",
    "\n",
    "# Ensure all columns have one unit\n",
    "# Assuming 'Speed' is in km/h and 'speed_mph' is in mph, we'll convert 'speed_mph' to km/h\n",
    "coaster_df['speed_mph'] = coaster_df['speed_mph'].apply(lambda x: x * 1.60934 if not pd.isna(x) else x)\n",
    "\n",
    "# Rename columns for consistency and readability\n",
    "coaster_df = coaster_df.rename(columns={\n",
    "    'Length': 'length_meters',\n",
    "    'Speed': 'speed_kph',\n",
    "    'Location': 'location',\n",
    "    'Status': 'operating',\n",
    "    'Manufacturer': 'manufacturer',\n",
    "    'Height': 'height_meters',\n",
    "    'Designer': 'designer',\n",
    "    'Track layout': 'track_layout',\n",
    "    'latitude': 'latitude',\n",
    "    'longitude': 'longitude',\n",
    "    'opening_date_clean': 'opening_date'\n",
    "})\n",
    "\n",
    "# Display the cleaned DataFrame\n",
    "print(coaster_df.head())"
   ]
  },
  {
   "cell_type": "code",
   "execution_count": 40,
   "id": "dc990552",
   "metadata": {},
   "outputs": [
    {
     "data": {
      "text/html": [
       "<div>\n",
       "<style scoped>\n",
       "    .dataframe tbody tr th:only-of-type {\n",
       "        vertical-align: middle;\n",
       "    }\n",
       "\n",
       "    .dataframe tbody tr th {\n",
       "        vertical-align: top;\n",
       "    }\n",
       "\n",
       "    .dataframe thead th {\n",
       "        text-align: right;\n",
       "    }\n",
       "</style>\n",
       "<table border=\"1\" class=\"dataframe\">\n",
       "  <thead>\n",
       "    <tr style=\"text-align: right;\">\n",
       "      <th></th>\n",
       "      <th>CoasterName</th>\n",
       "      <th>Length</th>\n",
       "      <th>SpeedKMH</th>\n",
       "      <th>Location</th>\n",
       "      <th>Status</th>\n",
       "      <th>Manufacturer</th>\n",
       "      <th>HeightMeters</th>\n",
       "      <th>Designer</th>\n",
       "      <th>TrackLayout</th>\n",
       "      <th>Latitude</th>\n",
       "      <th>Longitude</th>\n",
       "      <th>OpeningDate</th>\n",
       "      <th>SpeedMPH</th>\n",
       "      <th>HeightValue</th>\n",
       "    </tr>\n",
       "  </thead>\n",
       "  <tbody>\n",
       "    <tr>\n",
       "      <th>0</th>\n",
       "      <td>Switchback Railway</td>\n",
       "      <td>600.0</td>\n",
       "      <td>9.65604</td>\n",
       "      <td>Coney Island</td>\n",
       "      <td>Removed</td>\n",
       "      <td>LaMarcus Adna Thompson</td>\n",
       "      <td>NaN</td>\n",
       "      <td>LaMarcus Adna Thompson</td>\n",
       "      <td>Gravity pulled coaster</td>\n",
       "      <td>40.5740</td>\n",
       "      <td>-73.9780</td>\n",
       "      <td>1884-06-16</td>\n",
       "      <td>6.0</td>\n",
       "      <td>50.0</td>\n",
       "    </tr>\n",
       "    <tr>\n",
       "      <th>1</th>\n",
       "      <td>Flip Flap Railway</td>\n",
       "      <td>NaN</td>\n",
       "      <td>NaN</td>\n",
       "      <td>Sea Lion Park</td>\n",
       "      <td>Removed</td>\n",
       "      <td>Lina Beecher</td>\n",
       "      <td>NaN</td>\n",
       "      <td>Lina Beecher</td>\n",
       "      <td>NaN</td>\n",
       "      <td>40.5780</td>\n",
       "      <td>-73.9790</td>\n",
       "      <td>1895-01-01</td>\n",
       "      <td>NaN</td>\n",
       "      <td>NaN</td>\n",
       "    </tr>\n",
       "    <tr>\n",
       "      <th>2</th>\n",
       "      <td>Switchback Railway (Euclid Beach Park)</td>\n",
       "      <td>NaN</td>\n",
       "      <td>NaN</td>\n",
       "      <td>Cleveland, Ohio, United States</td>\n",
       "      <td>Closed</td>\n",
       "      <td>NaN</td>\n",
       "      <td>NaN</td>\n",
       "      <td>NaN</td>\n",
       "      <td>NaN</td>\n",
       "      <td>41.5800</td>\n",
       "      <td>-81.5700</td>\n",
       "      <td>NaT</td>\n",
       "      <td>NaN</td>\n",
       "      <td>NaN</td>\n",
       "    </tr>\n",
       "    <tr>\n",
       "      <th>3</th>\n",
       "      <td>Loop the Loop (Coney Island)</td>\n",
       "      <td>NaN</td>\n",
       "      <td>NaN</td>\n",
       "      <td>Other</td>\n",
       "      <td>Removed</td>\n",
       "      <td>Edwin Prescott</td>\n",
       "      <td>NaN</td>\n",
       "      <td>Edward A. Green</td>\n",
       "      <td>NaN</td>\n",
       "      <td>40.5745</td>\n",
       "      <td>-73.9780</td>\n",
       "      <td>1901-01-01</td>\n",
       "      <td>NaN</td>\n",
       "      <td>NaN</td>\n",
       "    </tr>\n",
       "    <tr>\n",
       "      <th>4</th>\n",
       "      <td>Loop the Loop (Young's Pier)</td>\n",
       "      <td>NaN</td>\n",
       "      <td>NaN</td>\n",
       "      <td>Other</td>\n",
       "      <td>Removed</td>\n",
       "      <td>Edwin Prescott</td>\n",
       "      <td>NaN</td>\n",
       "      <td>Edward A. Green</td>\n",
       "      <td>NaN</td>\n",
       "      <td>39.3538</td>\n",
       "      <td>-74.4342</td>\n",
       "      <td>1901-01-01</td>\n",
       "      <td>NaN</td>\n",
       "      <td>NaN</td>\n",
       "    </tr>\n",
       "  </tbody>\n",
       "</table>\n",
       "</div>"
      ],
      "text/plain": [
       "                              CoasterName  Length  SpeedKMH  \\\n",
       "0                      Switchback Railway   600.0   9.65604   \n",
       "1                       Flip Flap Railway     NaN       NaN   \n",
       "2  Switchback Railway (Euclid Beach Park)     NaN       NaN   \n",
       "3            Loop the Loop (Coney Island)     NaN       NaN   \n",
       "4            Loop the Loop (Young's Pier)     NaN       NaN   \n",
       "\n",
       "                         Location   Status            Manufacturer  \\\n",
       "0                    Coney Island  Removed  LaMarcus Adna Thompson   \n",
       "1                   Sea Lion Park  Removed            Lina Beecher   \n",
       "2  Cleveland, Ohio, United States   Closed                     NaN   \n",
       "3                           Other  Removed          Edwin Prescott   \n",
       "4                           Other  Removed          Edwin Prescott   \n",
       "\n",
       "   HeightMeters                Designer             TrackLayout  Latitude  \\\n",
       "0           NaN  LaMarcus Adna Thompson  Gravity pulled coaster   40.5740   \n",
       "1           NaN            Lina Beecher                     NaN   40.5780   \n",
       "2           NaN                     NaN                     NaN   41.5800   \n",
       "3           NaN         Edward A. Green                     NaN   40.5745   \n",
       "4           NaN         Edward A. Green                     NaN   39.3538   \n",
       "\n",
       "   Longitude OpeningDate  SpeedMPH  HeightValue  \n",
       "0   -73.9780  1884-06-16       6.0         50.0  \n",
       "1   -73.9790  1895-01-01       NaN          NaN  \n",
       "2   -81.5700         NaT       NaN          NaN  \n",
       "3   -73.9780  1901-01-01       NaN          NaN  \n",
       "4   -74.4342  1901-01-01       NaN          NaN  "
      ]
     },
     "execution_count": 40,
     "metadata": {},
     "output_type": "execute_result"
    }
   ],
   "source": [
    "cleaned_df.head()"
   ]
  },
  {
   "cell_type": "markdown",
   "id": "12d6fd86-eedf-434b-b6de-0eedcfd4ae44",
   "metadata": {},
   "source": [
    "## 4.1\n",
    "\n",
    "Add a column giving the average speed per height"
   ]
  },
  {
   "cell_type": "code",
   "execution_count": 41,
   "id": "a754f030-198a-4ca6-942b-912a7fd9ff88",
   "metadata": {
    "tags": []
   },
   "outputs": [
    {
     "name": "stdout",
     "output_type": "stream",
     "text": [
      "Average Speed per Height: \n",
      " 0       0.193121\n",
      "1            NaN\n",
      "2            NaN\n",
      "3            NaN\n",
      "4            NaN\n",
      "          ...   \n",
      "1082    0.768424\n",
      "1083    0.660010\n",
      "1084    1.221944\n",
      "1085    0.488550\n",
      "1086    0.712532\n",
      "Name: Average Speed/Height, Length: 1087, dtype: float64\n"
     ]
    }
   ],
   "source": [
    "cleaned_df['Average Speed/Height']= cleaned_df['SpeedKMH']/cleaned_df['HeightValue']\n",
    "print(\"Average Speed per Height: \\n\", cleaned_df['Average Speed/Height'])"
   ]
  },
  {
   "cell_type": "markdown",
   "id": "5861c9d8",
   "metadata": {},
   "source": [
    "# 4.2\n",
    "Find the total number of empty values"
   ]
  },
  {
   "cell_type": "code",
   "execution_count": 42,
   "id": "968bca84-f811-4d95-aec0-8a449f61e64c",
   "metadata": {
    "tags": []
   },
   "outputs": [
    {
     "data": {
      "text/plain": [
       "CoasterName               0\n",
       "Length                  134\n",
       "SpeedKMH                150\n",
       "Location                  0\n",
       "Status                  213\n",
       "Manufacturer             59\n",
       "HeightMeters            916\n",
       "Designer                509\n",
       "TrackLayout             752\n",
       "Latitude                275\n",
       "Longitude               275\n",
       "OpeningDate             250\n",
       "SpeedMPH                150\n",
       "HeightValue             122\n",
       "Average Speed/Height    183\n",
       "dtype: int64"
      ]
     },
     "execution_count": 42,
     "metadata": {},
     "output_type": "execute_result"
    }
   ],
   "source": [
    "cleaned_df.isna().sum()"
   ]
  },
  {
   "cell_type": "code",
   "execution_count": 43,
   "id": "2a5293d6-e2d0-4106-92ed-fa54659bf077",
   "metadata": {
    "tags": []
   },
   "outputs": [
    {
     "name": "stdout",
     "output_type": "stream",
     "text": [
      "Total number of empty values in the DataFrame: 29617\n"
     ]
    }
   ],
   "source": [
    "# Calculate the total number of NaNs (empty values) in the DataFrame\n",
    "total_nans = df.isna().sum().sum()\n",
    "\n",
    "print(f\"Total number of empty values in the DataFrame: {total_nans}\")"
   ]
  },
  {
   "cell_type": "markdown",
   "id": "a9d44990",
   "metadata": {},
   "source": [
    "## 4.3\n",
    "Find the duplicated coasters and remove them"
   ]
  },
  {
   "cell_type": "code",
   "execution_count": 44,
   "id": "d53812f4",
   "metadata": {},
   "outputs": [],
   "source": [
    "cleaned_df.drop_duplicates(subset= 'CoasterName', inplace= True)"
   ]
  },
  {
   "cell_type": "code",
   "execution_count": 45,
   "id": "3729d848-122c-43f2-b706-b8fca93769b1",
   "metadata": {
    "tags": []
   },
   "outputs": [
    {
     "name": "stdout",
     "output_type": "stream",
     "text": [
      "Number of duplicated rows: 0\n",
      "Data shape after removing duplicates: (1087, 59)\n"
     ]
    }
   ],
   "source": [
    "# Identify duplicates\n",
    "duplicates = df.duplicated()\n",
    "print(f\"Number of duplicated rows: {duplicates.sum()}\")\n",
    "\n",
    "# Remove duplicates (keeping the first occurrence by default)\n",
    "df_cleaned = df.drop_duplicates()\n",
    "\n",
    "# Check the DataFrame after removing duplicates\n",
    "print(f\"Data shape after removing duplicates: {df_cleaned.shape}\")"
   ]
  },
  {
   "cell_type": "code",
   "execution_count": 46,
   "id": "16bd652d-3f08-4637-884c-df0378dd5357",
   "metadata": {
    "tags": []
   },
   "outputs": [
    {
     "data": {
      "text/plain": [
       "(990, 15)"
      ]
     },
     "execution_count": 46,
     "metadata": {},
     "output_type": "execute_result"
    }
   ],
   "source": [
    "cleaned_df.shape"
   ]
  },
  {
   "cell_type": "markdown",
   "id": "f186fccb",
   "metadata": {},
   "source": [
    "## 4.4\n",
    "What is the average coaster length per decade?"
   ]
  },
  {
   "cell_type": "code",
   "execution_count": 47,
   "id": "a8cfc761",
   "metadata": {},
   "outputs": [
    {
     "name": "stdout",
     "output_type": "stream",
     "text": [
      "Average coaster length per decade: \n",
      " 0       60.0\n",
      "1        NaN\n",
      "2        NaN\n",
      "3        NaN\n",
      "4        NaN\n",
      "        ... \n",
      "1079     0.1\n",
      "1081     0.1\n",
      "1083     0.3\n",
      "1085    77.0\n",
      "1086     0.3\n",
      "Name: Length/Decade, Length: 990, dtype: float64\n"
     ]
    }
   ],
   "source": [
    "cleaned_df['Length/Decade']= cleaned_df['Length']/10\n",
    "print(\"Average coaster length per decade: \\n\", cleaned_df['Length/Decade'])"
   ]
  },
  {
   "cell_type": "markdown",
   "id": "e0a39c2e",
   "metadata": {},
   "source": [
    "## 4.5\n",
    "Find the median speed per Designer"
   ]
  },
  {
   "cell_type": "code",
   "execution_count": 50,
   "id": "32d233d4-0103-48ff-823b-cb6a38951f97",
   "metadata": {
    "tags": []
   },
   "outputs": [
    {
     "data": {
      "text/html": [
       "<div>\n",
       "<style scoped>\n",
       "    .dataframe tbody tr th:only-of-type {\n",
       "        vertical-align: middle;\n",
       "    }\n",
       "\n",
       "    .dataframe tbody tr th {\n",
       "        vertical-align: top;\n",
       "    }\n",
       "\n",
       "    .dataframe thead th {\n",
       "        text-align: right;\n",
       "    }\n",
       "</style>\n",
       "<table border=\"1\" class=\"dataframe\">\n",
       "  <thead>\n",
       "    <tr style=\"text-align: right;\">\n",
       "      <th></th>\n",
       "      <th>SpeedKMH</th>\n",
       "    </tr>\n",
       "    <tr>\n",
       "      <th>Designer</th>\n",
       "      <th></th>\n",
       "    </tr>\n",
       "  </thead>\n",
       "  <tbody>\n",
       "    <tr>\n",
       "      <th>Al CollinsJeff Gramke</th>\n",
       "      <td>104.285232</td>\n",
       "    </tr>\n",
       "    <tr>\n",
       "      <th>Alan Schilke</th>\n",
       "      <td>90.123040</td>\n",
       "    </tr>\n",
       "    <tr>\n",
       "      <th>Alan SchilkeRenato Manzoni</th>\n",
       "      <td>122.309840</td>\n",
       "    </tr>\n",
       "    <tr>\n",
       "      <th>Alison Brittle, Eden Carpenter, and Gary Norton</th>\n",
       "      <td>80.467000</td>\n",
       "    </tr>\n",
       "    <tr>\n",
       "      <th>Andy Vettel (1968)John A. Miller (1924)</th>\n",
       "      <td>88.513700</td>\n",
       "    </tr>\n",
       "    <tr>\n",
       "      <th>...</th>\n",
       "      <td>...</td>\n",
       "    </tr>\n",
       "    <tr>\n",
       "      <th>Werner Stengel[3]</th>\n",
       "      <td>148.059280</td>\n",
       "    </tr>\n",
       "    <tr>\n",
       "      <th>William Cobb</th>\n",
       "      <td>93.341720</td>\n",
       "    </tr>\n",
       "    <tr>\n",
       "      <th>William Cobb &amp; Associates</th>\n",
       "      <td>96.077598</td>\n",
       "    </tr>\n",
       "    <tr>\n",
       "      <th>William CobbWerner Stengel</th>\n",
       "      <td>99.940014</td>\n",
       "    </tr>\n",
       "    <tr>\n",
       "      <th>Zierer</th>\n",
       "      <td>36.049216</td>\n",
       "    </tr>\n",
       "  </tbody>\n",
       "</table>\n",
       "<p>153 rows × 1 columns</p>\n",
       "</div>"
      ],
      "text/plain": [
       "                                                   SpeedKMH\n",
       "Designer                                                   \n",
       "Al CollinsJeff Gramke                            104.285232\n",
       "Alan Schilke                                      90.123040\n",
       "Alan SchilkeRenato Manzoni                       122.309840\n",
       "Alison Brittle, Eden Carpenter, and Gary Norton   80.467000\n",
       "Andy Vettel (1968)John A. Miller (1924)           88.513700\n",
       "...                                                     ...\n",
       "Werner Stengel[3]                                148.059280\n",
       "William Cobb                                      93.341720\n",
       "William Cobb & Associates                         96.077598\n",
       "William CobbWerner Stengel                        99.940014\n",
       "Zierer                                            36.049216\n",
       "\n",
       "[153 rows x 1 columns]"
      ]
     },
     "execution_count": 50,
     "metadata": {},
     "output_type": "execute_result"
    }
   ],
   "source": [
    "cleaned_df[['SpeedKMH', 'Designer']].groupby(by= 'Designer').median()"
   ]
  },
  {
   "cell_type": "markdown",
   "id": "927077ba",
   "metadata": {},
   "source": [
    "## 4.6\n",
    "What is the active coaster length per location? Sort high-to-low."
   ]
  },
  {
   "cell_type": "code",
   "execution_count": 51,
   "id": "d465a2fa",
   "metadata": {},
   "outputs": [
    {
     "data": {
      "text/html": [
       "<div>\n",
       "<style scoped>\n",
       "    .dataframe tbody tr th:only-of-type {\n",
       "        vertical-align: middle;\n",
       "    }\n",
       "\n",
       "    .dataframe tbody tr th {\n",
       "        vertical-align: top;\n",
       "    }\n",
       "\n",
       "    .dataframe thead th {\n",
       "        text-align: right;\n",
       "    }\n",
       "</style>\n",
       "<table border=\"1\" class=\"dataframe\">\n",
       "  <thead>\n",
       "    <tr style=\"text-align: right;\">\n",
       "      <th></th>\n",
       "      <th>Length</th>\n",
       "    </tr>\n",
       "    <tr>\n",
       "      <th>Location</th>\n",
       "      <th></th>\n",
       "    </tr>\n",
       "  </thead>\n",
       "  <tbody>\n",
       "    <tr>\n",
       "      <th>Other</th>\n",
       "      <td>22041.0</td>\n",
       "    </tr>\n",
       "    <tr>\n",
       "      <th>Walibi Holland</th>\n",
       "      <td>5840.0</td>\n",
       "    </tr>\n",
       "    <tr>\n",
       "      <th>Canada's Wonderland</th>\n",
       "      <td>4468.0</td>\n",
       "    </tr>\n",
       "    <tr>\n",
       "      <th>Alton Towers</th>\n",
       "      <td>3955.0</td>\n",
       "    </tr>\n",
       "    <tr>\n",
       "      <th>Movie Park Germany</th>\n",
       "      <td>3076.0</td>\n",
       "    </tr>\n",
       "    <tr>\n",
       "      <th>...</th>\n",
       "      <td>...</td>\n",
       "    </tr>\n",
       "    <tr>\n",
       "      <th>Castles N' Coasters</th>\n",
       "      <td>0.0</td>\n",
       "    </tr>\n",
       "    <tr>\n",
       "      <th>Camden Park</th>\n",
       "      <td>0.0</td>\n",
       "    </tr>\n",
       "    <tr>\n",
       "      <th>Calaway Park</th>\n",
       "      <td>0.0</td>\n",
       "    </tr>\n",
       "    <tr>\n",
       "      <th>Tolchester Beach Park</th>\n",
       "      <td>0.0</td>\n",
       "    </tr>\n",
       "    <tr>\n",
       "      <th>2904 Fantasy Way Myrtle Beach, South Carolina, U.S.</th>\n",
       "      <td>0.0</td>\n",
       "    </tr>\n",
       "  </tbody>\n",
       "</table>\n",
       "<p>280 rows × 1 columns</p>\n",
       "</div>"
      ],
      "text/plain": [
       "                                                     Length\n",
       "Location                                                   \n",
       "Other                                               22041.0\n",
       "Walibi Holland                                       5840.0\n",
       "Canada's Wonderland                                  4468.0\n",
       "Alton Towers                                         3955.0\n",
       "Movie Park Germany                                   3076.0\n",
       "...                                                     ...\n",
       "Castles N' Coasters                                     0.0\n",
       "Camden Park                                             0.0\n",
       "Calaway Park                                            0.0\n",
       "Tolchester Beach Park                                   0.0\n",
       "2904 Fantasy Way Myrtle Beach, South Carolina, ...      0.0\n",
       "\n",
       "[280 rows x 1 columns]"
      ]
     },
     "execution_count": 51,
     "metadata": {},
     "output_type": "execute_result"
    }
   ],
   "source": [
    "cleaned_df[['Location','Length']].groupby(by= \"Location\").sum().sort_values(by= \"Length\",ascending= False)"
   ]
  },
  {
   "cell_type": "markdown",
   "id": "59bf72aa",
   "metadata": {},
   "source": [
    "## 4.7\n",
    "Which manufaturer had the heighest active amount of coaster length each decade?"
   ]
  },
  {
   "cell_type": "code",
   "execution_count": 105,
   "id": "a7708c10",
   "metadata": {},
   "outputs": [
    {
     "name": "stdout",
     "output_type": "stream",
     "text": [
      "Manufacturer with greatest active length:  Vekoma\n"
     ]
    }
   ],
   "source": [
    "highest_length_manu= cleaned_df[['Manufacturer','Length']].groupby(by= \"Manufacturer\").sum().sort_values(by= \"Length\",ascending= False)\n",
    "print(\"Manufacturer with greatest active length: \", highest_length_manu.index[0]) "
   ]
  },
  {
   "cell_type": "markdown",
   "id": "140bd71a",
   "metadata": {},
   "source": [
    "## 4.8\n",
    "What is the favorite track layout and how does it change over time? Show in a plot. Which layout is most expensive?"
   ]
  },
  {
   "cell_type": "code",
   "execution_count": 120,
   "id": "00bcac2c",
   "metadata": {
    "tags": []
   },
   "outputs": [
    {
     "name": "stdout",
     "output_type": "stream",
     "text": [
      "Favourite Track layout:  Steel\n"
     ]
    },
    {
     "data": {
      "image/png": "[encoded data removed]",
      "text/plain": [
       "<Figure size 640x480 with 1 Axes>"
      ]
     },
     "metadata": {},
     "output_type": "display_data"
    }
   ],
   "source": [
    "import matplotlib.pyplot as plt\n",
    "\n",
    "trackLayout = cleaned_df[['TrackLayout', 'Length']].groupby(by=\"TrackLayout\").sum()\n",
    "\n",
    "# Favourite Track layout based on the total length\n",
    "fvrte_track = trackLayout.sort_values(by=\"Length\", ascending=False)\n",
    "print(\"Favourite Track layout: \", fvrte_track.index[0])\n",
    "\n",
    "# Plotting\n",
    "plt.plot(trackLayout)\n",
    "plt.xlabel('Track Layout')\n",
    "plt.ylabel('Total Length')\n",
    "\n",
    "# Use tight layout to automatically adjust subplot parameters for better appearance\n",
    "plt.tight_layout()\n",
    "\n",
    "# Show the plot\n",
    "plt.show()"
   ]
  },
  {
   "cell_type": "markdown",
   "id": "c9daea43",
   "metadata": {},
   "source": [
    "## 5.0\n",
    "Using the earthquake data: Which coaster was closest to an earthquake that happened in the last 90 days?\n",
    "\n",
    "- load the earthquake data\n",
    "- calculate the distances as:\n",
    "    - distance = square root((Latitude1 - Latitude2) **2 + (Longitude1 - Longitude2) **2)\n",
    "- Print the coaster information and how far away it was from the closes earthquake"
   ]
  },
  {
   "cell_type": "code",
   "execution_count": 80,
   "id": "a00859a3-1da8-4da6-b55f-7b3fc73fd965",
   "metadata": {},
   "outputs": [],
   "source": [
    "#Using API\n",
    "import requests\n",
    "import datetime as dt\n",
    "\n",
    "# set startdate\n",
    "yesterday = dt.date.today() - dt.timedelta(days = 1)\n",
    "\n",
    "# api url\n",
    "api = 'https://earthquake.usgs.gov/fdsnws/event/1/query'\n",
    "\n",
    "# Create the payload for the GET request\n",
    "payload = {\n",
    "    'format': 'geojson',\n",
    "    'starttime': yesterday - dt.timedelta(days = 30),\n",
    "    'endtime': yesterday\n",
    "}\n",
    "\n",
    "response = requests.get(api,\n",
    "                        params = payload)"
   ]
  },
  {
   "cell_type": "code",
   "execution_count": 81,
   "id": "c0988da5-e85e-4b42-9c4d-4c0d35ac863d",
   "metadata": {
    "tags": []
   },
   "outputs": [
    {
     "data": {
      "text/plain": [
       "200"
      ]
     },
     "execution_count": 81,
     "metadata": {},
     "output_type": "execute_result"
    }
   ],
   "source": [
    "# check if the request was successful\n",
    "response.status_code"
   ]
  },
  {
   "cell_type": "code",
   "execution_count": 82,
   "id": "55518eb6-b6e4-4f43-8930-e0f10492ed28",
   "metadata": {
    "tags": []
   },
   "outputs": [
    {
     "data": {
      "text/plain": [
       "dict_keys(['type', 'metadata', 'features', 'bbox'])"
      ]
     },
     "execution_count": 82,
     "metadata": {},
     "output_type": "execute_result"
    }
   ],
   "source": [
    "quake_json = response.json()\n",
    "quake_json.keys()"
   ]
  },
  {
   "cell_type": "code",
   "execution_count": 83,
   "id": "d566acfe-af56-4c51-9ccf-5992e2eae2da",
   "metadata": {
    "tags": []
   },
   "outputs": [
    {
     "data": {
      "text/plain": [
       "{'generated': 1706746711000,\n",
       " 'url': 'https://earthquake.usgs.gov/fdsnws/event/1/query?format=geojson&starttime=2023-12-31&endtime=2024-01-30',\n",
       " 'title': 'USGS Earthquakes',\n",
       " 'status': 200,\n",
       " 'api': '1.14.0',\n",
       " 'count': 9812}"
      ]
     },
     "execution_count": 83,
     "metadata": {},
     "output_type": "execute_result"
    }
   ],
   "source": [
    "quake_json['metadata']"
   ]
  },
  {
   "cell_type": "code",
   "execution_count": 84,
   "id": "ca864e81-7baa-44bd-a3c1-bbc7e7929f12",
   "metadata": {
    "tags": []
   },
   "outputs": [
    {
     "data": {
      "text/plain": [
       "{'type': 'Feature',\n",
       " 'properties': {'mag': 2.2,\n",
       "  'place': '4 km NW of Bridgeport, Texas',\n",
       "  'time': 1706572642049,\n",
       "  'updated': 1706730438530,\n",
       "  'tz': None,\n",
       "  'url': 'https://earthquake.usgs.gov/earthquakes/eventpage/tx2024cazo',\n",
       "  'detail': 'https://earthquake.usgs.gov/fdsnws/event/1/query?eventid=tx2024cazo&format=geojson',\n",
       "  'felt': None,\n",
       "  'cdi': None,\n",
       "  'mmi': None,\n",
       "  'alert': None,\n",
       "  'status': 'reviewed',\n",
       "  'tsunami': 0,\n",
       "  'sig': 74,\n",
       "  'net': 'tx',\n",
       "  'code': '2024cazo',\n",
       "  'ids': ',tx2024cazo,',\n",
       "  'sources': ',tx,',\n",
       "  'types': ',origin,phase-data,',\n",
       "  'nst': 13,\n",
       "  'dmin': 0.3,\n",
       "  'rms': 0.5,\n",
       "  'gap': 88,\n",
       "  'magType': 'ml',\n",
       "  'type': 'earthquake',\n",
       "  'title': 'M 2.2 - 4 km NW of Bridgeport, Texas'},\n",
       " 'geometry': {'type': 'Point', 'coordinates': [-97.791, 33.235, 0.0245]},\n",
       " 'id': 'tx2024cazo'}"
      ]
     },
     "execution_count": 84,
     "metadata": {},
     "output_type": "execute_result"
    }
   ],
   "source": [
    "quake_json['features'][0]"
   ]
  },
  {
   "cell_type": "code",
   "execution_count": 85,
   "id": "cabbc52d-76cd-4593-ab1c-38169e964464",
   "metadata": {
    "tags": []
   },
   "outputs": [
    {
     "data": {
      "text/html": [
       "<div>\n",
       "<style scoped>\n",
       "    .dataframe tbody tr th:only-of-type {\n",
       "        vertical-align: middle;\n",
       "    }\n",
       "\n",
       "    .dataframe tbody tr th {\n",
       "        vertical-align: top;\n",
       "    }\n",
       "\n",
       "    .dataframe thead th {\n",
       "        text-align: right;\n",
       "    }\n",
       "</style>\n",
       "<table border=\"1\" class=\"dataframe\">\n",
       "  <thead>\n",
       "    <tr style=\"text-align: right;\">\n",
       "      <th></th>\n",
       "      <th>mag</th>\n",
       "      <th>place</th>\n",
       "      <th>time</th>\n",
       "      <th>updated</th>\n",
       "      <th>tz</th>\n",
       "      <th>url</th>\n",
       "      <th>detail</th>\n",
       "      <th>felt</th>\n",
       "      <th>cdi</th>\n",
       "      <th>mmi</th>\n",
       "      <th>...</th>\n",
       "      <th>ids</th>\n",
       "      <th>sources</th>\n",
       "      <th>types</th>\n",
       "      <th>nst</th>\n",
       "      <th>dmin</th>\n",
       "      <th>rms</th>\n",
       "      <th>gap</th>\n",
       "      <th>magType</th>\n",
       "      <th>type</th>\n",
       "      <th>title</th>\n",
       "    </tr>\n",
       "  </thead>\n",
       "  <tbody>\n",
       "    <tr>\n",
       "      <th>0</th>\n",
       "      <td>2.20</td>\n",
       "      <td>4 km NW of Bridgeport, Texas</td>\n",
       "      <td>1706572642049</td>\n",
       "      <td>1706730438530</td>\n",
       "      <td>None</td>\n",
       "      <td>https://earthquake.usgs.gov/earthquakes/eventp...</td>\n",
       "      <td>https://earthquake.usgs.gov/fdsnws/event/1/que...</td>\n",
       "      <td>NaN</td>\n",
       "      <td>NaN</td>\n",
       "      <td>NaN</td>\n",
       "      <td>...</td>\n",
       "      <td>,tx2024cazo,</td>\n",
       "      <td>,tx,</td>\n",
       "      <td>,origin,phase-data,</td>\n",
       "      <td>13.0</td>\n",
       "      <td>0.3000</td>\n",
       "      <td>0.5000</td>\n",
       "      <td>88.00</td>\n",
       "      <td>ml</td>\n",
       "      <td>earthquake</td>\n",
       "      <td>M 2.2 - 4 km NW of Bridgeport, Texas</td>\n",
       "    </tr>\n",
       "    <tr>\n",
       "      <th>1</th>\n",
       "      <td>1.80</td>\n",
       "      <td>3 km SSE of Salcha, Alaska</td>\n",
       "      <td>1706572332394</td>\n",
       "      <td>1706572991363</td>\n",
       "      <td>None</td>\n",
       "      <td>https://earthquake.usgs.gov/earthquakes/eventp...</td>\n",
       "      <td>https://earthquake.usgs.gov/fdsnws/event/1/que...</td>\n",
       "      <td>2.0</td>\n",
       "      <td>2.2</td>\n",
       "      <td>NaN</td>\n",
       "      <td>...</td>\n",
       "      <td>,ak0241ccl7fb,</td>\n",
       "      <td>,ak,</td>\n",
       "      <td>,dyfi,origin,phase-data,</td>\n",
       "      <td>NaN</td>\n",
       "      <td>NaN</td>\n",
       "      <td>0.4900</td>\n",
       "      <td>NaN</td>\n",
       "      <td>ml</td>\n",
       "      <td>earthquake</td>\n",
       "      <td>M 1.8 - 3 km SSE of Salcha, Alaska</td>\n",
       "    </tr>\n",
       "    <tr>\n",
       "      <th>2</th>\n",
       "      <td>1.60</td>\n",
       "      <td>30 km W of Gerlach, Nevada</td>\n",
       "      <td>1706571886689</td>\n",
       "      <td>1706645371273</td>\n",
       "      <td>None</td>\n",
       "      <td>https://earthquake.usgs.gov/earthquakes/eventp...</td>\n",
       "      <td>https://earthquake.usgs.gov/fdsnws/event/1/que...</td>\n",
       "      <td>NaN</td>\n",
       "      <td>NaN</td>\n",
       "      <td>NaN</td>\n",
       "      <td>...</td>\n",
       "      <td>,nn00872692,</td>\n",
       "      <td>,nn,</td>\n",
       "      <td>,origin,phase-data,</td>\n",
       "      <td>5.0</td>\n",
       "      <td>0.4500</td>\n",
       "      <td>0.1281</td>\n",
       "      <td>311.06</td>\n",
       "      <td>ml</td>\n",
       "      <td>earthquake</td>\n",
       "      <td>M 1.6 - 30 km W of Gerlach, Nevada</td>\n",
       "    </tr>\n",
       "    <tr>\n",
       "      <th>3</th>\n",
       "      <td>3.41</td>\n",
       "      <td>99 km N of Charlotte Amalie, U.S. Virgin Islands</td>\n",
       "      <td>1706571845830</td>\n",
       "      <td>1706574625430</td>\n",
       "      <td>None</td>\n",
       "      <td>https://earthquake.usgs.gov/earthquakes/eventp...</td>\n",
       "      <td>https://earthquake.usgs.gov/fdsnws/event/1/que...</td>\n",
       "      <td>NaN</td>\n",
       "      <td>NaN</td>\n",
       "      <td>NaN</td>\n",
       "      <td>...</td>\n",
       "      <td>,pr71438228,</td>\n",
       "      <td>,pr,</td>\n",
       "      <td>,origin,phase-data,</td>\n",
       "      <td>4.0</td>\n",
       "      <td>0.8807</td>\n",
       "      <td>0.2700</td>\n",
       "      <td>308.00</td>\n",
       "      <td>md</td>\n",
       "      <td>earthquake</td>\n",
       "      <td>M 3.4 - 99 km N of Charlotte Amalie, U.S. Virg...</td>\n",
       "    </tr>\n",
       "    <tr>\n",
       "      <th>4</th>\n",
       "      <td>1.87</td>\n",
       "      <td>10 km SW of Volcano, Hawaii</td>\n",
       "      <td>1706571625690</td>\n",
       "      <td>1706571958550</td>\n",
       "      <td>None</td>\n",
       "      <td>https://earthquake.usgs.gov/earthquakes/eventp...</td>\n",
       "      <td>https://earthquake.usgs.gov/fdsnws/event/1/que...</td>\n",
       "      <td>NaN</td>\n",
       "      <td>NaN</td>\n",
       "      <td>NaN</td>\n",
       "      <td>...</td>\n",
       "      <td>,hv73735527,</td>\n",
       "      <td>,hv,</td>\n",
       "      <td>,origin,phase-data,</td>\n",
       "      <td>18.0</td>\n",
       "      <td>NaN</td>\n",
       "      <td>0.1800</td>\n",
       "      <td>59.00</td>\n",
       "      <td>ml</td>\n",
       "      <td>earthquake</td>\n",
       "      <td>M 1.9 - 10 km SW of Volcano, Hawaii</td>\n",
       "    </tr>\n",
       "  </tbody>\n",
       "</table>\n",
       "<p>5 rows × 26 columns</p>\n",
       "</div>"
      ],
      "text/plain": [
       "    mag                                             place           time  \\\n",
       "0  2.20                      4 km NW of Bridgeport, Texas  1706572642049   \n",
       "1  1.80                        3 km SSE of Salcha, Alaska  1706572332394   \n",
       "2  1.60                        30 km W of Gerlach, Nevada  1706571886689   \n",
       "3  3.41  99 km N of Charlotte Amalie, U.S. Virgin Islands  1706571845830   \n",
       "4  1.87                       10 km SW of Volcano, Hawaii  1706571625690   \n",
       "\n",
       "         updated    tz                                                url  \\\n",
       "0  1706730438530  None  https://earthquake.usgs.gov/earthquakes/eventp...   \n",
       "1  1706572991363  None  https://earthquake.usgs.gov/earthquakes/eventp...   \n",
       "2  1706645371273  None  https://earthquake.usgs.gov/earthquakes/eventp...   \n",
       "3  1706574625430  None  https://earthquake.usgs.gov/earthquakes/eventp...   \n",
       "4  1706571958550  None  https://earthquake.usgs.gov/earthquakes/eventp...   \n",
       "\n",
       "                                              detail  felt  cdi  mmi  ...  \\\n",
       "0  https://earthquake.usgs.gov/fdsnws/event/1/que...   NaN  NaN  NaN  ...   \n",
       "1  https://earthquake.usgs.gov/fdsnws/event/1/que...   2.0  2.2  NaN  ...   \n",
       "2  https://earthquake.usgs.gov/fdsnws/event/1/que...   NaN  NaN  NaN  ...   \n",
       "3  https://earthquake.usgs.gov/fdsnws/event/1/que...   NaN  NaN  NaN  ...   \n",
       "4  https://earthquake.usgs.gov/fdsnws/event/1/que...   NaN  NaN  NaN  ...   \n",
       "\n",
       "              ids sources                     types   nst    dmin     rms  \\\n",
       "0    ,tx2024cazo,    ,tx,       ,origin,phase-data,  13.0  0.3000  0.5000   \n",
       "1  ,ak0241ccl7fb,    ,ak,  ,dyfi,origin,phase-data,   NaN     NaN  0.4900   \n",
       "2    ,nn00872692,    ,nn,       ,origin,phase-data,   5.0  0.4500  0.1281   \n",
       "3    ,pr71438228,    ,pr,       ,origin,phase-data,   4.0  0.8807  0.2700   \n",
       "4    ,hv73735527,    ,hv,       ,origin,phase-data,  18.0     NaN  0.1800   \n",
       "\n",
       "      gap magType        type  \\\n",
       "0   88.00      ml  earthquake   \n",
       "1     NaN      ml  earthquake   \n",
       "2  311.06      ml  earthquake   \n",
       "3  308.00      md  earthquake   \n",
       "4   59.00      ml  earthquake   \n",
       "\n",
       "                                               title  \n",
       "0               M 2.2 - 4 km NW of Bridgeport, Texas  \n",
       "1                 M 1.8 - 3 km SSE of Salcha, Alaska  \n",
       "2                 M 1.6 - 30 km W of Gerlach, Nevada  \n",
       "3  M 3.4 - 99 km N of Charlotte Amalie, U.S. Virg...  \n",
       "4                M 1.9 - 10 km SW of Volcano, Hawaii  \n",
       "\n",
       "[5 rows x 26 columns]"
      ]
     },
     "execution_count": 85,
     "metadata": {},
     "output_type": "execute_result"
    }
   ],
   "source": [
    "eq_df = pd.DataFrame([\n",
    "    quake['properties'] for quake in quake_json['features']\n",
    "])\n",
    "eq_df.head()"
   ]
  },
  {
   "cell_type": "code",
   "execution_count": 86,
   "id": "712ac682-11ec-4ede-82af-eb68050bb54e",
   "metadata": {
    "tags": []
   },
   "outputs": [
    {
     "data": {
      "text/plain": [
       "(9812, 26)"
      ]
     },
     "execution_count": 86,
     "metadata": {},
     "output_type": "execute_result"
    }
   ],
   "source": [
    "eq_df.shape"
   ]
  },
  {
   "cell_type": "code",
   "execution_count": 87,
   "id": "4fce72c4-d6f0-4f39-83e9-3c28f580c78b",
   "metadata": {
    "tags": []
   },
   "outputs": [
    {
     "data": {
      "text/html": [
       "<div>\n",
       "<style scoped>\n",
       "    .dataframe tbody tr th:only-of-type {\n",
       "        vertical-align: middle;\n",
       "    }\n",
       "\n",
       "    .dataframe tbody tr th {\n",
       "        vertical-align: top;\n",
       "    }\n",
       "\n",
       "    .dataframe thead th {\n",
       "        text-align: right;\n",
       "    }\n",
       "</style>\n",
       "<table border=\"1\" class=\"dataframe\">\n",
       "  <thead>\n",
       "    <tr style=\"text-align: right;\">\n",
       "      <th></th>\n",
       "      <th>type</th>\n",
       "      <th>coordinates</th>\n",
       "    </tr>\n",
       "  </thead>\n",
       "  <tbody>\n",
       "    <tr>\n",
       "      <th>0</th>\n",
       "      <td>Point</td>\n",
       "      <td>[-97.791, 33.235, 0.0245]</td>\n",
       "    </tr>\n",
       "    <tr>\n",
       "      <th>1</th>\n",
       "      <td>Point</td>\n",
       "      <td>[-146.8859, 64.494, 5.8]</td>\n",
       "    </tr>\n",
       "    <tr>\n",
       "      <th>2</th>\n",
       "      <td>Point</td>\n",
       "      <td>[-119.7079, 40.6195, 16]</td>\n",
       "    </tr>\n",
       "    <tr>\n",
       "      <th>3</th>\n",
       "      <td>Point</td>\n",
       "      <td>[-64.9085, 19.2366666666667, 15.56]</td>\n",
       "    </tr>\n",
       "    <tr>\n",
       "      <th>4</th>\n",
       "      <td>Point</td>\n",
       "      <td>[-155.290664672852, 19.3680000305176, 1.610000...</td>\n",
       "    </tr>\n",
       "  </tbody>\n",
       "</table>\n",
       "</div>"
      ],
      "text/plain": [
       "    type                                        coordinates\n",
       "0  Point                          [-97.791, 33.235, 0.0245]\n",
       "1  Point                           [-146.8859, 64.494, 5.8]\n",
       "2  Point                           [-119.7079, 40.6195, 16]\n",
       "3  Point                [-64.9085, 19.2366666666667, 15.56]\n",
       "4  Point  [-155.290664672852, 19.3680000305176, 1.610000..."
      ]
     },
     "execution_count": 87,
     "metadata": {},
     "output_type": "execute_result"
    }
   ],
   "source": [
    "eq_geom_df = pd.DataFrame([\n",
    "    quake['geometry'] for quake in quake_json['features']\n",
    "])\n",
    "eq_geom_df.head()"
   ]
  },
  {
   "cell_type": "code",
   "execution_count": 88,
   "id": "f0b393dc-d786-4bfc-966c-330310179f16",
   "metadata": {
    "tags": []
   },
   "outputs": [
    {
     "data": {
      "text/plain": [
       "(9812, 2)"
      ]
     },
     "execution_count": 88,
     "metadata": {},
     "output_type": "execute_result"
    }
   ],
   "source": [
    "eq_geom_df.shape"
   ]
  },
  {
   "cell_type": "code",
   "execution_count": 97,
   "id": "c5ef42be-0502-4ef5-9285-86f1846b3e6f",
   "metadata": {
    "tags": []
   },
   "outputs": [
    {
     "name": "stdout",
     "output_type": "stream",
     "text": [
      "                                                 place  \\\n",
      "0                         4 km NW of Bridgeport, Texas   \n",
      "1                           3 km SSE of Salcha, Alaska   \n",
      "2                           30 km W of Gerlach, Nevada   \n",
      "3     99 km N of Charlotte Amalie, U.S. Virgin Islands   \n",
      "4                          10 km SW of Volcano, Hawaii   \n",
      "...                                                ...   \n",
      "9807                        64 km NE of Otrada, Russia   \n",
      "9808                        13 km ESE of Point Sur, CA   \n",
      "9809               8 km ESE of Spanish Springs, Nevada   \n",
      "9810                          12 km ENE of Fox, Alaska   \n",
      "9811                    64 km N of Petersville, Alaska   \n",
      "\n",
      "                                            coordinates  \n",
      "0                             [-97.791, 33.235, 0.0245]  \n",
      "1                              [-146.8859, 64.494, 5.8]  \n",
      "2                              [-119.7079, 40.6195, 16]  \n",
      "3                   [-64.9085, 19.2366666666667, 15.56]  \n",
      "4     [-155.290664672852, 19.3680000305176, 1.610000...  \n",
      "...                                                 ...  \n",
      "9807                       [146.4847, 44.4452, 155.813]  \n",
      "9808                  [-121.7626667, 36.2706667, 10.22]  \n",
      "9809                         [-119.6286, 39.6103, 12.1]  \n",
      "9810                            [-147.3603, 64.9965, 0]  \n",
      "9811                        [-150.9655, 63.0684, 131.5]  \n",
      "\n",
      "[9812 rows x 2 columns]\n"
     ]
    }
   ],
   "source": [
    "# Assuming 'features' is a list of dictionaries\n",
    "features = quake_json['features']\n",
    "\n",
    "# Initialize empty lists to store place and coordinates\n",
    "places = []\n",
    "coordinates = []\n",
    "\n",
    "# Iterate over each feature and extract 'place' and 'coordinates'\n",
    "for feature in features:\n",
    "    place = feature['properties']['place']\n",
    "    coord = feature['geometry']['coordinates']\n",
    "    coordinates.append(coord)\n",
    "    places.append(place)\n",
    "\n",
    "# Create a DataFrame\n",
    "equake_df = pd.DataFrame({'place': places, 'coordinates': coordinates})\n",
    "\n",
    "# Display the DataFrame\n",
    "print(equake_df)"
   ]
  },
  {
   "cell_type": "code",
   "execution_count": 98,
   "id": "3c9915a8-1914-4d93-8713-17139372993d",
   "metadata": {
    "tags": []
   },
   "outputs": [
    {
     "name": "stdout",
     "output_type": "stream",
     "text": [
      "                                                 place   longitude   latitude  \\\n",
      "0                         4 km NW of Bridgeport, Texas  -97.791000  33.235000   \n",
      "1                           3 km SSE of Salcha, Alaska -146.885900  64.494000   \n",
      "2                           30 km W of Gerlach, Nevada -119.707900  40.619500   \n",
      "3     99 km N of Charlotte Amalie, U.S. Virgin Islands  -64.908500  19.236667   \n",
      "4                          10 km SW of Volcano, Hawaii -155.290665  19.368000   \n",
      "...                                                ...         ...        ...   \n",
      "9807                        64 km NE of Otrada, Russia  146.484700  44.445200   \n",
      "9808                        13 km ESE of Point Sur, CA -121.762667  36.270667   \n",
      "9809               8 km ESE of Spanish Springs, Nevada -119.628600  39.610300   \n",
      "9810                          12 km ENE of Fox, Alaska -147.360300  64.996500   \n",
      "9811                    64 km N of Petersville, Alaska -150.965500  63.068400   \n",
      "\n",
      "         depth  \n",
      "0       0.0245  \n",
      "1       5.8000  \n",
      "2      16.0000  \n",
      "3      15.5600  \n",
      "4       1.6100  \n",
      "...        ...  \n",
      "9807  155.8130  \n",
      "9808   10.2200  \n",
      "9809   12.1000  \n",
      "9810    0.0000  \n",
      "9811  131.5000  \n",
      "\n",
      "[9812 rows x 4 columns]\n"
     ]
    }
   ],
   "source": [
    "# Split 'coordinates' column into separate columns\n",
    "equake_df[['longitude', 'latitude', 'depth']] = pd.DataFrame(equake_df['coordinates'].tolist(), index=equake_df.index)\n",
    "\n",
    "# Drop the original 'coordinates' column\n",
    "equake_df.drop(columns=['coordinates'], inplace=True)\n",
    "\n",
    "# Display the updated DataFrame\n",
    "print(equake_df)"
   ]
  },
  {
   "cell_type": "code",
   "execution_count": 99,
   "id": "8514423d-59c7-44be-83b3-bf896bbee209",
   "metadata": {
    "tags": []
   },
   "outputs": [
    {
     "name": "stdout",
     "output_type": "stream",
     "text": [
      "    mag magType           time                    place  tsunami  \\\n",
      "0   5.1      mb  1539337221080  Pacific-Antarctic Ridge        0   \n",
      "1   5.1      mb  1539337221080  Pacific-Antarctic Ridge        0   \n",
      "2   5.1      mb  1538876662920  Pacific-Antarctic Ridge        0   \n",
      "3   5.1      mb  1538876662920  Pacific-Antarctic Ridge        0   \n",
      "4   5.6     mww  1538874411150  Pacific-Antarctic Ridge        0   \n",
      "..  ...     ...            ...                      ...      ...   \n",
      "84  5.4      mb  1537347194600          Carlsberg Ridge        0   \n",
      "85  4.5      mb  1537696499870   Balleny Islands region        0   \n",
      "86  4.5      mb  1537696499870   Balleny Islands region        0   \n",
      "87  4.5      mb  1537696499870   Balleny Islands region        0   \n",
      "88  4.5      mb  1537696499870   Balleny Islands region        0   \n",
      "\n",
      "               parsed_place  longitude  latitude  depth  \n",
      "0   Pacific-Antarctic Ridge  -179.3277  -65.3009   10.0  \n",
      "1   Pacific-Antarctic Ridge  -132.7762  -54.1991   10.0  \n",
      "2   Pacific-Antarctic Ridge  -179.3277  -65.3009   10.0  \n",
      "3   Pacific-Antarctic Ridge  -132.7762  -54.1991   10.0  \n",
      "4   Pacific-Antarctic Ridge  -179.3277  -65.3009   10.0  \n",
      "..                      ...        ...       ...    ...  \n",
      "84          Carlsberg Ridge    65.4881    3.1484   10.0  \n",
      "85          Balleny Islands   165.3253  -62.3294   10.0  \n",
      "86          Balleny Islands   165.5051  -62.2113   10.0  \n",
      "87          Balleny Islands   154.8866  -61.0554   10.0  \n",
      "88          Balleny Islands   154.5323  -61.6388   10.0  \n",
      "\n",
      "[89 rows x 9 columns]\n"
     ]
    }
   ],
   "source": [
    "# Merge the two DataFrames on the 'place' key\n",
    "merged_earthquake_df = pd.merge(earthquake_df, equake_df, on='place', how='inner')\n",
    "\n",
    "# Display the final merged DataFrame\n",
    "print(merged_earthquake_df)"
   ]
  }
 ],
 "metadata": {
  "kernelspec": {
   "display_name": "Python 3 (ipykernel)",
   "language": "python",
   "name": "python3"
  },
  "language_info": {
   "codemirror_mode": {
    "name": "ipython",
    "version": 3
   },
   "file_extension": ".py",
   "mimetype": "text/x-python",
   "name": "python",
   "nbconvert_exporter": "python",
   "pygments_lexer": "ipython3",
   "version": "3.11.4"
  }
 },
 "nbformat": 4,
 "nbformat_minor": 5
}
